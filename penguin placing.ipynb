{
 "cells": [
  {
   "cell_type": "code",
   "execution_count": 123,
   "id": "cd996670",
   "metadata": {},
   "outputs": [],
   "source": [
    "import numpy as np\n",
    "from PIL import Image\n",
    "import torch\n",
    "from torch.nn import Unfold\n",
    "from skimage.transform import rotate\n",
    "\n",
    "def im2col(img, block_size, stride=1):\n",
    "    if len(img.shape) == 2:\n",
    "        img = np.expand_dims(img,0)\n",
    "        img = np.expand_dims(img,0)\n",
    "    \n",
    "    filter_h, filter_w = block_size\n",
    "\n",
    "    N, C, H, W = img.shape\n",
    "    NN, CC, HH, WW = img.strides\n",
    "    out_h = (H - filter_h)//stride + 1\n",
    "    out_w = (W - filter_w)//stride + 1\n",
    "    col = np.lib.stride_tricks.as_strided(img, (N, out_h, out_w, C, filter_h, filter_w), (NN, stride * HH, stride * WW, CC, HH, WW)).astype(float)\n",
    "    return col.reshape(np.multiply.reduceat(col.shape, (0, 3)))\n",
    "\n",
    "def w_idx2a_idx(Ashape, tshape, i):\n",
    "    n,m = Ashape\n",
    "    h,l = tshape\n",
    "    \n",
    "    n_rows = m - l + 1\n",
    "    return np.array([i // n_rows, i % n_rows])"
   ]
  },
  {
   "cell_type": "code",
   "execution_count": 200,
   "id": "e54f8da2",
   "metadata": {},
   "outputs": [],
   "source": [
    "# Now, we'll place spongebob in a sunset photo\n",
    "\n",
    "####### Overlay\n",
    "base_scale = 10\n",
    "ol_scale = base_scale\n",
    "\n",
    "ol = Image.open('rockhopper.png')\n",
    "ol = ol.convert('RGBA')\n",
    "ol = ol.resize([40, 80]) # Scale the penguin down to hidding size\n",
    "ol_resized = ol.resize(np.array(ol.size) // (ol_scale))\n",
    "\n",
    "\n",
    "# For testing, make overlay pure one color\n",
    "# s = np.array(ol)\n",
    "\n",
    "# s[:,:,0] = 255\n",
    "# s[:,:,1] = 0\n",
    "# s[:,:,2] = 0\n",
    "# ol = Image.fromarray(s)\n",
    "\n",
    "t = np.array(ol_resized).transpose()\n",
    "# Create the mask where the image is transparent\n",
    "shape_mask = t[-1,:,:] == 0\n",
    "mask = (np.concatenate([t[-1,:,:].flatten(),t[-1,:,:].flatten(),t[-1,:,:].flatten()]) == 0)\n",
    "\n",
    "t = t[0:3,:,:]\n",
    "t = torch.tensor(t, dtype = torch.float32)\n",
    "flat_t = t.flatten()\n",
    "t_size = (t.shape[1], t.shape[2])\n",
    "\n",
    "\n",
    "\n",
    "###### Base Image\n",
    "\n",
    "base = Image.open('falls.jpeg')\n",
    "base = base.convert('RGBA')\n",
    "base_resized = base.resize(np.array(base.size) // base_scale)\n",
    "\n",
    "\n",
    "# v_off = 100\n",
    "# h_off = 10\n",
    "# sun[v_off:(27 + v_off),h_off:(35 + h_off),0][~shape_mask.transpose()] = 255\n",
    "# sun[v_off:(27 + v_off),h_off:(35 + h_off),1][~shape_mask.transpose()] = 0\n",
    "# sun[v_off:(27 + v_off),h_off:(35 + h_off),2][~shape_mask.transpose()] = 0\n",
    "\n",
    "# sunset = Image.fromarray(sun)\n",
    "\n",
    "# Make placement matrix\n",
    "A = np.array(base_resized).transpose()\n",
    "A = torch.tensor(A, dtype = torch.float32)\n",
    "A = torch.unsqueeze(A,0)\n",
    "A = A[:,0:3,:,:]"
   ]
  },
  {
   "cell_type": "code",
   "execution_count": 201,
   "id": "a0e5da07",
   "metadata": {},
   "outputs": [
    {
     "data": {
      "text/plain": [
       "(4, 8)"
      ]
     },
     "execution_count": 201,
     "metadata": {},
     "output_type": "execute_result"
    }
   ],
   "source": [
    "t_size"
   ]
  },
  {
   "cell_type": "code",
   "execution_count": 202,
   "id": "4927b51b",
   "metadata": {},
   "outputs": [
    {
     "name": "stdout",
     "output_type": "stream",
     "text": [
      "(40, 80)\n",
      "(2560, 1707)\n"
     ]
    }
   ],
   "source": [
    "print(ol.size)\n",
    "print(base.size)"
   ]
  },
  {
   "cell_type": "code",
   "execution_count": 203,
   "id": "f10e960f",
   "metadata": {},
   "outputs": [
    {
     "name": "stdout",
     "output_type": "stream",
     "text": [
      "There are 41239 windows\n",
      "There are 3958944 window elements\n"
     ]
    }
   ],
   "source": [
    "# Get the windows\n",
    "unfold = Unfold(kernel_size= t_size)\n",
    "windows = unfold(A).squeeze(0).transpose(0,1)\n",
    "print(f'There are {windows.shape[0]} windows')\n",
    "print(f'There are {windows.shape[0] * windows.shape[1]} window elements')"
   ]
  },
  {
   "cell_type": "code",
   "execution_count": 204,
   "id": "f3d41f87",
   "metadata": {},
   "outputs": [],
   "source": [
    "difference = windows - t.flatten()\n",
    "difference[:,mask] = 0\n",
    "norms = np.linalg.norm(difference, axis = 1)\n",
    "optimal_window_idx = np.argmin(norms)"
   ]
  },
  {
   "cell_type": "code",
   "execution_count": 205,
   "id": "5878be18",
   "metadata": {},
   "outputs": [
    {
     "name": "stdout",
     "output_type": "stream",
     "text": [
      "Optimal index is [129  28]\n"
     ]
    }
   ],
   "source": [
    "optimal_index = w_idx2a_idx((A.shape[2],A.shape[3]), (t.shape[1], t.shape[2]) ,optimal_window_idx)\n",
    "print(f'Optimal index is {optimal_index}')"
   ]
  },
  {
   "cell_type": "code",
   "execution_count": 206,
   "id": "871e768c",
   "metadata": {},
   "outputs": [],
   "source": [
    "base.paste(ol, tuple(optimal_index * base_scale) ,  mask=ol) \n",
    "base.show()"
   ]
  },
  {
   "cell_type": "code",
   "execution_count": 207,
   "id": "e5140bed",
   "metadata": {},
   "outputs": [],
   "source": [
    "base_resized.paste(ol_resized, tuple(optimal_index) ,  mask=ol_resized) \n",
    "base_resized.show()"
   ]
  },
  {
   "cell_type": "code",
   "execution_count": null,
   "id": "3ae9fef8",
   "metadata": {},
   "outputs": [],
   "source": []
  }
 ],
 "metadata": {
  "kernelspec": {
   "display_name": "Python 3 (ipykernel)",
   "language": "python",
   "name": "python3"
  },
  "language_info": {
   "codemirror_mode": {
    "name": "ipython",
    "version": 3
   },
   "file_extension": ".py",
   "mimetype": "text/x-python",
   "name": "python",
   "nbconvert_exporter": "python",
   "pygments_lexer": "ipython3",
   "version": "3.9.7"
  }
 },
 "nbformat": 4,
 "nbformat_minor": 5
}
